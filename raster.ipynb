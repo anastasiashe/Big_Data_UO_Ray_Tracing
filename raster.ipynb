{
 "cells": [
  {
   "cell_type": "code",
   "execution_count": 1,
   "metadata": {
    "collapsed": false
   },
   "outputs": [],
   "source": [
    "from osgeo import gdal, osr"
   ]
  },
  {
   "cell_type": "code",
   "execution_count": 2,
   "metadata": {
    "collapsed": true
   },
   "outputs": [],
   "source": [
    "datafile = gdal.Open(\"./Poly_MN_bldg_PolygonToRaster2.tif\")"
   ]
  },
  {
   "cell_type": "code",
   "execution_count": 3,
   "metadata": {
    "collapsed": false
   },
   "outputs": [
    {
     "ename": "AttributeError",
     "evalue": "'NoneType' object has no attribute 'RasterXSize'",
     "output_type": "error",
     "traceback": [
      "\u001b[0;31m---------------------------------------------------------------------------\u001b[0m",
      "\u001b[0;31mAttributeError\u001b[0m                            Traceback (most recent call last)",
      "\u001b[0;32m<ipython-input-3-ec16ce6b3d6e>\u001b[0m in \u001b[0;36m<module>\u001b[0;34m()\u001b[0m\n\u001b[0;32m----> 1\u001b[0;31m \u001b[0mcols\u001b[0m \u001b[0;34m=\u001b[0m \u001b[0mdatafile\u001b[0m\u001b[0;34m.\u001b[0m\u001b[0mRasterXSize\u001b[0m\u001b[0;34m\u001b[0m\u001b[0m\n\u001b[0m\u001b[1;32m      2\u001b[0m \u001b[0mrows\u001b[0m \u001b[0;34m=\u001b[0m \u001b[0mdatafile\u001b[0m\u001b[0;34m.\u001b[0m\u001b[0mRasterYSize\u001b[0m\u001b[0;34m\u001b[0m\u001b[0m\n\u001b[1;32m      3\u001b[0m \u001b[0mbands\u001b[0m \u001b[0;34m=\u001b[0m \u001b[0mdatafile\u001b[0m\u001b[0;34m.\u001b[0m\u001b[0mRasterCount\u001b[0m\u001b[0;34m\u001b[0m\u001b[0m\n\u001b[1;32m      4\u001b[0m \u001b[0;34m\u001b[0m\u001b[0m\n\u001b[1;32m      5\u001b[0m \u001b[0;34m\"\"\"Print the information to the screen. Converting the numbers returned to strings using str()\"\"\"\u001b[0m\u001b[0;34m\u001b[0m\u001b[0m\n",
      "\u001b[0;31mAttributeError\u001b[0m: 'NoneType' object has no attribute 'RasterXSize'"
     ]
    }
   ],
   "source": [
    "cols = datafile.RasterXSize\n",
    "rows = datafile.RasterYSize\n",
    "bands = datafile.RasterCount\n",
    "\n",
    "\"\"\"Print the information to the screen. Converting the numbers returned to strings using str()\"\"\"\n",
    "\n",
    "print \"Number of columns: \" + str(cols)\n",
    "print \"Number of rows: \" + str(rows)\n",
    "print \"Number of bands: \" + str(bands)"
   ]
  },
  {
   "cell_type": "code",
   "execution_count": null,
   "metadata": {
    "collapsed": false
   },
   "outputs": [],
   "source": [
    "\"\"\"First we call the GetGeoTransform method of our datafile object\"\"\"\n",
    "\n",
    "geoinformation = datafile.GetGeoTransform()\n",
    "\n",
    "\"\"\"The top left X and Y coordinates are at list positions 0 and 3 respectively\"\"\"\n",
    "\n",
    "topLeftX = geoinformation[0]\n",
    "topLeftY = geoinformation[3]\n",
    "\n",
    "\"\"\"Print this information to screen\"\"\"\n",
    "\n",
    "print \"Top left X: \" + str(topLeftX)\n",
    "print \"Top left Y: \" + str(topLeftY)"
   ]
  },
  {
   "cell_type": "code",
   "execution_count": null,
   "metadata": {
    "collapsed": false
   },
   "outputs": [],
   "source": [
    "\"\"\"first we access the projection information within our datafile using the GetProjection() method. This returns a string in WKT format\"\"\"\n",
    "\n",
    "projInfo = datafile.GetProjection()\n",
    "\n",
    "\"\"\"Then we use the osr module that comes with GDAL to create a spatial reference object\"\"\"\n",
    "\n",
    "spatialRef = osr.SpatialReference()\n",
    "\n",
    "\"\"\"We import our WKT string into spatialRef\"\"\"\n",
    "\n",
    "spatialRef.ImportFromWkt(projInfo)\n",
    "\n",
    "\"\"\"We use the ExportToProj4() method to return a proj4 style spatial reference string.\"\"\"\n",
    "\n",
    "spatialRefProj = spatialRef.ExportToProj4()\n",
    "\n",
    "\"\"\"We can then print them out\"\"\"\n",
    "\n",
    "print \"WKT format: \" + str(spatialRef)\n",
    "print \"Proj4 format: \" + str(spatialRefProj)"
   ]
  },
  {
   "cell_type": "code",
   "execution_count": null,
   "metadata": {
    "collapsed": true
   },
   "outputs": [],
   "source": []
  },
  {
   "cell_type": "code",
   "execution_count": null,
   "metadata": {
    "collapsed": true
   },
   "outputs": [],
   "source": []
  },
  {
   "cell_type": "code",
   "execution_count": null,
   "metadata": {
    "collapsed": true
   },
   "outputs": [],
   "source": []
  },
  {
   "cell_type": "code",
   "execution_count": null,
   "metadata": {
    "collapsed": true
   },
   "outputs": [],
   "source": []
  }
 ],
 "metadata": {
  "anaconda-cloud": {},
  "kernelspec": {
   "display_name": "Python [default]",
   "language": "python",
   "name": "python2"
  },
  "language_info": {
   "codemirror_mode": {
    "name": "ipython",
    "version": 2
   },
   "file_extension": ".py",
   "mimetype": "text/x-python",
   "name": "python",
   "nbconvert_exporter": "python",
   "pygments_lexer": "ipython2",
   "version": "2.7.12"
  }
 },
 "nbformat": 4,
 "nbformat_minor": 1
}
